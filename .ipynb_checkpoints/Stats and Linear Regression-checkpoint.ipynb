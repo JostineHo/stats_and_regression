{
 "cells": [
  {
   "cell_type": "markdown",
   "metadata": {},
   "source": [
    "# Data Science from Scratch Tutorial\n",
    "## Statistics and Linear Regression\n",
    "### Gail Muldoon 2016\n",
    "\n",
    "This notebook uses titanic passengers and cricket chirp datasets to cover Statistics (Chapter 5) and Linear Regression (Chapter 14) from the book Data Science From Scratch by Joel Grus. "
   ]
  },
  {
   "cell_type": "markdown",
   "metadata": {},
   "source": [
    "## Load library dependencies and document software versions\n"
   ]
  },
  {
   "cell_type": "code",
   "execution_count": 2,
   "metadata": {
    "collapsed": false
   },
   "outputs": [
    {
     "name": "stderr",
     "output_type": "stream",
     "text": [
      "/Users/gail/anaconda2/lib/python2.7/site-packages/pandas/computation/__init__.py:19: UserWarning: The installed version of numexpr 2.4.4 is not supported in pandas and will be not be used\n",
      "\n",
      "  UserWarning)\n",
      "/Users/gail/anaconda2/lib/python2.7/site-packages/matplotlib/font_manager.py:273: UserWarning: Matplotlib is building the font cache using fc-list. This may take a moment.\n",
      "  warnings.warn('Matplotlib is building the font cache using fc-list. This may take a moment.')\n"
     ]
    }
   ],
   "source": [
    "#Import pandas\n",
    "import pandas as pd\n",
    "# Import numpy\n",
    "import numpy as np\n",
    "# Import matplotlib\n",
    "import matplotlib.pyplot as plt\n",
    "#Import statsmodels\n",
    "import statsmodels.formula.api as smf\n",
    "import statsmodels.graphics.api as smg\n",
    "# Import the linear regression class\n",
    "from sklearn.linear_model import LinearRegression\n",
    "\n",
    "#Import seaborn\n",
    "import seaborn as sns \n",
    "sns.set_style(\"white\")\n",
    "#make figures appear as they're made\n",
    "%matplotlib inline "
   ]
  },
  {
   "cell_type": "code",
   "execution_count": 3,
   "metadata": {
    "collapsed": false
   },
   "outputs": [
    {
     "name": "stdout",
     "output_type": "stream",
     "text": [
      "python 2.7.11 |Anaconda 2.4.1 (x86_64)| (default, Dec  6 2015, 18:57:58) \n",
      "[GCC 4.2.1 (Apple Inc. build 5577)]\n",
      "\n",
      "pandas 0.18.0\n",
      "numpy 1.11.0\n",
      "seaborn 0.7.0\n"
     ]
    }
   ],
   "source": [
    "# Always good practice to note the version info\n",
    "import sys\n",
    "import matplotlib as mpl\n",
    "print(\"python \" + sys.version)\n",
    "print(\"\")\n",
    "print(\"pandas \" + str(pd.__version__))\n",
    "print(\"numpy \" + np.__version__)\n",
    "#print(\"matplotlib \" + mpl.__version__)\n",
    "print(\"seaborn \" + sns.__version__)"
   ]
  },
  {
   "cell_type": "markdown",
   "metadata": {},
   "source": [
    "## Load Titanic data"
   ]
  },
  {
   "cell_type": "code",
   "execution_count": 4,
   "metadata": {
    "collapsed": false
   },
   "outputs": [
    {
     "name": "stdout",
     "output_type": "stream",
     "text": [
      "   PassengerId  Survived  Pclass  \\\n",
      "0            1         0       3   \n",
      "1            2         1       1   \n",
      "2            3         1       3   \n",
      "3            4         1       1   \n",
      "4            5         0       3   \n",
      "\n",
      "                                                Name     Sex   Age  SibSp  \\\n",
      "0                            Braund, Mr. Owen Harris    male  22.0      1   \n",
      "1  Cumings, Mrs. John Bradley (Florence Briggs Th...  female  38.0      1   \n",
      "2                             Heikkinen, Miss. Laina  female  26.0      0   \n",
      "3       Futrelle, Mrs. Jacques Heath (Lily May Peel)  female  35.0      1   \n",
      "4                           Allen, Mr. William Henry    male  35.0      0   \n",
      "\n",
      "   Parch            Ticket     Fare Cabin Embarked  \n",
      "0      0         A/5 21171   7.2500   NaN        S  \n",
      "1      0          PC 17599  71.2833   C85        C  \n",
      "2      0  STON/O2. 3101282   7.9250   NaN        S  \n",
      "3      0            113803  53.1000  C123        S  \n",
      "4      0            373450   8.0500   NaN        S  \n"
     ]
    }
   ],
   "source": [
    "titanic = pd.read_csv(\"data/titanic_train.csv\")\n",
    "print(titanic.head(5))"
   ]
  },
  {
   "cell_type": "markdown",
   "metadata": {},
   "source": [
    "## Chapter 5: Statistics"
   ]
  },
  {
   "cell_type": "markdown",
   "metadata": {},
   "source": [
    "A statistic is just a number that describes some aspect of data. There are many basic stats that might be of interest for a dataset:\n",
    "\n",
    "1. Central Tendencies: where is the data centered?\n",
    "    * mean\n",
    "    * median\n",
    "    * mode\n",
    "    * quantiles\n",
    "\n",
    "2. Disperson: spread of data\n",
    "    * range (max - min)\n",
    "    * interquartile range (75th percentile - 25th percentile)\n",
    "    * standard deviation / variance\n",
    "    * outliers\n",
    "    \n",
    "3. Correlation: how do variables relate to one another?\n",
    "    * covariance\n",
    "    * correlation"
   ]
  },
  {
   "cell_type": "code",
   "execution_count": 191,
   "metadata": {
    "collapsed": false
   },
   "outputs": [
    {
     "name": "stdout",
     "output_type": "stream",
     "text": [
      "       PassengerId    Survived      Pclass         Age       SibSp  \\\n",
      "count   891.000000  891.000000  891.000000  714.000000  891.000000   \n",
      "mean    446.000000    0.383838    2.308642   29.699118    0.523008   \n",
      "std     257.353842    0.486592    0.836071   14.526497    1.102743   \n",
      "min       1.000000    0.000000    1.000000    0.420000    0.000000   \n",
      "25%     223.500000    0.000000    2.000000   20.125000    0.000000   \n",
      "50%     446.000000    0.000000    3.000000   28.000000    0.000000   \n",
      "75%     668.500000    1.000000    3.000000   38.000000    1.000000   \n",
      "max     891.000000    1.000000    3.000000   80.000000    8.000000   \n",
      "\n",
      "            Parch        Fare  \n",
      "count  891.000000  891.000000  \n",
      "mean     0.381594   32.204208  \n",
      "std      0.806057   49.693429  \n",
      "min      0.000000    0.000000  \n",
      "25%      0.000000    7.910400  \n",
      "50%      0.000000   14.454200  \n",
      "75%      0.000000   31.000000  \n",
      "max      6.000000  512.329200  \n"
     ]
    }
   ],
   "source": [
    "#Descriptive statistics of dataset\n",
    "print(titanic.describe())"
   ]
  },
  {
   "cell_type": "markdown",
   "metadata": {},
   "source": [
    "#### Question 1: Why does Age have a lower \"count\" than the other variables?\n",
    "#### Question 2: Why are variables like Sex not shown in .describe()?\n",
    "\n",
    "### More central tendencies\n",
    "Might also be interested in median (the center value), which is not sensitive to outliers like the mean is."
   ]
  },
  {
   "cell_type": "code",
   "execution_count": 192,
   "metadata": {
    "collapsed": false
   },
   "outputs": [
    {
     "data": {
      "text/plain": [
       "PassengerId    446.0000\n",
       "Survived         0.0000\n",
       "Pclass           3.0000\n",
       "Age             28.0000\n",
       "SibSp            0.0000\n",
       "Parch            0.0000\n",
       "Fare            14.4542\n",
       "dtype: float64"
      ]
     },
     "execution_count": 192,
     "metadata": {},
     "output_type": "execute_result"
    }
   ],
   "source": [
    "# get median for all numeric variables\n",
    "titanic.median()"
   ]
  },
  {
   "cell_type": "markdown",
   "metadata": {},
   "source": [
    "Note: It doesn't always make sense to take mean/median of a variable just because it's numeric\n",
    "i.e. median of PassengerId doesn't have meaning\n",
    "\n",
    "Or the mode, which is the value(s) that appear most often for a variable, whether they be numeric or not."
   ]
  },
  {
   "cell_type": "code",
   "execution_count": 193,
   "metadata": {
    "collapsed": false
   },
   "outputs": [
    {
     "data": {
      "text/html": [
       "<div>\n",
       "<table border=\"1\" class=\"dataframe\">\n",
       "  <thead>\n",
       "    <tr style=\"text-align: right;\">\n",
       "      <th></th>\n",
       "      <th>PassengerId</th>\n",
       "      <th>Survived</th>\n",
       "      <th>Pclass</th>\n",
       "      <th>Name</th>\n",
       "      <th>Sex</th>\n",
       "      <th>Age</th>\n",
       "      <th>SibSp</th>\n",
       "      <th>Parch</th>\n",
       "      <th>Ticket</th>\n",
       "      <th>Fare</th>\n",
       "      <th>Cabin</th>\n",
       "      <th>Embarked</th>\n",
       "    </tr>\n",
       "  </thead>\n",
       "  <tbody>\n",
       "    <tr>\n",
       "      <th>0</th>\n",
       "      <td>NaN</td>\n",
       "      <td>0.0</td>\n",
       "      <td>3.0</td>\n",
       "      <td>NaN</td>\n",
       "      <td>male</td>\n",
       "      <td>24.0</td>\n",
       "      <td>0.0</td>\n",
       "      <td>0.0</td>\n",
       "      <td>1601</td>\n",
       "      <td>8.05</td>\n",
       "      <td>B96 B98</td>\n",
       "      <td>S</td>\n",
       "    </tr>\n",
       "    <tr>\n",
       "      <th>1</th>\n",
       "      <td>NaN</td>\n",
       "      <td>NaN</td>\n",
       "      <td>NaN</td>\n",
       "      <td>NaN</td>\n",
       "      <td>NaN</td>\n",
       "      <td>NaN</td>\n",
       "      <td>NaN</td>\n",
       "      <td>NaN</td>\n",
       "      <td>347082</td>\n",
       "      <td>NaN</td>\n",
       "      <td>C23 C25 C27</td>\n",
       "      <td>NaN</td>\n",
       "    </tr>\n",
       "    <tr>\n",
       "      <th>2</th>\n",
       "      <td>NaN</td>\n",
       "      <td>NaN</td>\n",
       "      <td>NaN</td>\n",
       "      <td>NaN</td>\n",
       "      <td>NaN</td>\n",
       "      <td>NaN</td>\n",
       "      <td>NaN</td>\n",
       "      <td>NaN</td>\n",
       "      <td>CA. 2343</td>\n",
       "      <td>NaN</td>\n",
       "      <td>G6</td>\n",
       "      <td>NaN</td>\n",
       "    </tr>\n",
       "  </tbody>\n",
       "</table>\n",
       "</div>"
      ],
      "text/plain": [
       "   PassengerId  Survived  Pclass  Name   Sex   Age  SibSp  Parch    Ticket  \\\n",
       "0          NaN       0.0     3.0   NaN  male  24.0    0.0    0.0      1601   \n",
       "1          NaN       NaN     NaN   NaN   NaN   NaN    NaN    NaN    347082   \n",
       "2          NaN       NaN     NaN   NaN   NaN   NaN    NaN    NaN  CA. 2343   \n",
       "\n",
       "   Fare        Cabin Embarked  \n",
       "0  8.05      B96 B98        S  \n",
       "1   NaN  C23 C25 C27      NaN  \n",
       "2   NaN           G6      NaN  "
      ]
     },
     "execution_count": 193,
     "metadata": {},
     "output_type": "execute_result"
    }
   ],
   "source": [
    "titanic.mode()"
   ]
  },
  {
   "cell_type": "markdown",
   "metadata": {},
   "source": [
    "### More dispersion\n",
    "Can also get things like highest or lowest N values for a variable, like fare:"
   ]
  },
  {
   "cell_type": "code",
   "execution_count": 194,
   "metadata": {
    "collapsed": false
   },
   "outputs": [
    {
     "name": "stdout",
     "output_type": "stream",
     "text": [
      "[0.0, 0.0, 0.0, 0.0, 0.0, 0.0, 0.0, 0.0, 0.0, 0.0]\n",
      "[247.52080000000001, 262.375, 262.375, 263.0, 263.0, 263.0, 263.0, 512.32920000000001, 512.32920000000001, 512.32920000000001]\n"
     ]
    }
   ],
   "source": [
    "titanicSorted = sorted(titanic.Fare)\n",
    "\n",
    "#10 lowest fares (i.e. the first 10 after sorting)\n",
    "print  titanicSorted[:10]\n",
    "\n",
    "#10 highest fares (i.e. the last 10 after sorting)\n",
    "print titanicSorted[-10:]"
   ]
  },
  {
   "cell_type": "markdown",
   "metadata": {},
   "source": [
    "Or calculate arbitrary quantiles (i.e. percentiles):"
   ]
  },
  {
   "cell_type": "code",
   "execution_count": 195,
   "metadata": {
    "collapsed": false,
    "scrolled": true
   },
   "outputs": [
    {
     "name": "stdout",
     "output_type": "stream",
     "text": [
      "PassengerId    90.00\n",
      "Survived        0.00\n",
      "Pclass          1.00\n",
      "Age            14.00\n",
      "SibSp           0.00\n",
      "Parch           0.00\n",
      "Fare            7.55\n",
      "dtype: float64\n",
      "\n",
      "PassengerId    743.2600\n",
      "Survived         1.0000\n",
      "Pclass           3.0000\n",
      "Age             44.0000\n",
      "SibSp            1.0000\n",
      "Parch            1.0000\n",
      "Fare            52.5542\n",
      "dtype: float64\n"
     ]
    }
   ],
   "source": [
    "# compute 10% quantify, value for which 10% of data lies below\n",
    "print(titanic.quantile(0.1))\n",
    "print('')\n",
    "# or 83.4% quantile, just in case\n",
    "print(titanic.quantile(0.834))"
   ]
  },
  {
   "cell_type": "markdown",
   "metadata": {},
   "source": [
    "#### Question 3: Choose your own quantile to calculate and interpret what it means.\n",
    "\n",
    "Variance is another measure of dispersion which is just the squared standard deviation. Keep in mind standard deviation has the same units as the variable being measured, while the variance has units of the square of the value being measured. "
   ]
  },
  {
   "cell_type": "code",
   "execution_count": 196,
   "metadata": {
    "collapsed": false
   },
   "outputs": [
    {
     "name": "stdout",
     "output_type": "stream",
     "text": [
      "PassengerId    66231.000000\n",
      "Survived           0.236772\n",
      "Pclass             0.699015\n",
      "Age              211.019125\n",
      "SibSp              1.216043\n",
      "Parch              0.649728\n",
      "Fare            2469.436846\n",
      "dtype: float64\n",
      "PassengerId    66231.000000\n",
      "Survived           0.236772\n",
      "Pclass             0.699015\n",
      "Age              211.019125\n",
      "SibSp              1.216043\n",
      "Parch              0.649728\n",
      "Fare            2469.436846\n",
      "dtype: float64\n"
     ]
    }
   ],
   "source": [
    "#here's the variance\n",
    "print(titanic.var())\n",
    "\n",
    "#computing from standard deviation to check\n",
    "var=titanic.std()**2\n",
    "print(var)"
   ]
  },
  {
   "cell_type": "markdown",
   "metadata": {},
   "source": [
    "Measures of dispersion tend to be sensitive to outliers. One measure of dispersion that's less sensitive to outliers is the interquartile range, which is the range between the 25th and 75th percentiles. "
   ]
  },
  {
   "cell_type": "code",
   "execution_count": 197,
   "metadata": {
    "collapsed": false
   },
   "outputs": [
    {
     "name": "stdout",
     "output_type": "stream",
     "text": [
      "PassengerId    445.0000\n",
      "Survived         1.0000\n",
      "Pclass           1.0000\n",
      "Age             17.8750\n",
      "SibSp            1.0000\n",
      "Parch            0.0000\n",
      "Fare            23.0896\n",
      "dtype: float64\n",
      "512.3292\n"
     ]
    }
   ],
   "source": [
    "#compute interquartile range\n",
    "interquartile = titanic.quantile(0.75) - titanic.quantile(0.25)\n",
    "print(interquartile)\n",
    "\n",
    "#compute the regular range for comparison\n",
    "#Note range is already function in python, so I call it Range\n",
    "Range = max(titanic.Fare) - min(titanic.Fare)\n",
    "print(Range)"
   ]
  },
  {
   "cell_type": "markdown",
   "metadata": {},
   "source": [
    "### Covariance \n",
    "From the book: \"Whereas variance measures how a single variable deviates from its mean, covariance measures how two variables vary in tandem from their means.\" \n",
    "\n",
    "If the covariance is positive and relatively large, it means if one variable is above its mean value, the other variable tends to be above its mean or vice versa (both below their respective means). A large negative covariance indicates if one variable is above its mean, the other variable tends to be below its mean. Covariance close to 0 indicates no relationship.\n",
    "\n",
    "Covariance is calculated using the following equation:\n",
    "\n",
    "\\begin{equation}\n",
    "cov(x,y) = \\frac{\\sum_{i=1}^n (x_i - \\bar{x})(y_i - \\bar{y})}{n-1} \n",
    "\\end{equation}\n",
    "\n",
    "$x$ = predictor variable, $\\bar{x}$ = mean of predictor variable, $y$ = outcome variable, $\\bar{y}$ = mean of outcome variable, $n$ = sample size\n",
    "\n",
    "#### Question 4: What is the covariance of a variable with itself?\n",
    "#### Question 5: What are the units of covariance?"
   ]
  },
  {
   "cell_type": "code",
   "execution_count": 198,
   "metadata": {
    "collapsed": false
   },
   "outputs": [
    {
     "data": {
      "text/html": [
       "<div>\n",
       "<table border=\"1\" class=\"dataframe\">\n",
       "  <thead>\n",
       "    <tr style=\"text-align: right;\">\n",
       "      <th></th>\n",
       "      <th>PassengerId</th>\n",
       "      <th>Survived</th>\n",
       "      <th>Pclass</th>\n",
       "      <th>Age</th>\n",
       "      <th>SibSp</th>\n",
       "      <th>Parch</th>\n",
       "      <th>Fare</th>\n",
       "    </tr>\n",
       "  </thead>\n",
       "  <tbody>\n",
       "    <tr>\n",
       "      <th>PassengerId</th>\n",
       "      <td>66231.000000</td>\n",
       "      <td>-0.626966</td>\n",
       "      <td>-7.561798</td>\n",
       "      <td>138.696504</td>\n",
       "      <td>-16.325843</td>\n",
       "      <td>-0.342697</td>\n",
       "      <td>161.883369</td>\n",
       "    </tr>\n",
       "    <tr>\n",
       "      <th>Survived</th>\n",
       "      <td>-0.626966</td>\n",
       "      <td>0.236772</td>\n",
       "      <td>-0.137703</td>\n",
       "      <td>-0.551296</td>\n",
       "      <td>-0.018954</td>\n",
       "      <td>0.032017</td>\n",
       "      <td>6.221787</td>\n",
       "    </tr>\n",
       "    <tr>\n",
       "      <th>Pclass</th>\n",
       "      <td>-7.561798</td>\n",
       "      <td>-0.137703</td>\n",
       "      <td>0.699015</td>\n",
       "      <td>-4.496004</td>\n",
       "      <td>0.076599</td>\n",
       "      <td>0.012429</td>\n",
       "      <td>-22.830196</td>\n",
       "    </tr>\n",
       "    <tr>\n",
       "      <th>Age</th>\n",
       "      <td>138.696504</td>\n",
       "      <td>-0.551296</td>\n",
       "      <td>-4.496004</td>\n",
       "      <td>211.019125</td>\n",
       "      <td>-4.163334</td>\n",
       "      <td>-2.344191</td>\n",
       "      <td>73.849030</td>\n",
       "    </tr>\n",
       "    <tr>\n",
       "      <th>SibSp</th>\n",
       "      <td>-16.325843</td>\n",
       "      <td>-0.018954</td>\n",
       "      <td>0.076599</td>\n",
       "      <td>-4.163334</td>\n",
       "      <td>1.216043</td>\n",
       "      <td>0.368739</td>\n",
       "      <td>8.748734</td>\n",
       "    </tr>\n",
       "    <tr>\n",
       "      <th>Parch</th>\n",
       "      <td>-0.342697</td>\n",
       "      <td>0.032017</td>\n",
       "      <td>0.012429</td>\n",
       "      <td>-2.344191</td>\n",
       "      <td>0.368739</td>\n",
       "      <td>0.649728</td>\n",
       "      <td>8.661052</td>\n",
       "    </tr>\n",
       "    <tr>\n",
       "      <th>Fare</th>\n",
       "      <td>161.883369</td>\n",
       "      <td>6.221787</td>\n",
       "      <td>-22.830196</td>\n",
       "      <td>73.849030</td>\n",
       "      <td>8.748734</td>\n",
       "      <td>8.661052</td>\n",
       "      <td>2469.436846</td>\n",
       "    </tr>\n",
       "  </tbody>\n",
       "</table>\n",
       "</div>"
      ],
      "text/plain": [
       "              PassengerId  Survived     Pclass         Age      SibSp  \\\n",
       "PassengerId  66231.000000 -0.626966  -7.561798  138.696504 -16.325843   \n",
       "Survived        -0.626966  0.236772  -0.137703   -0.551296  -0.018954   \n",
       "Pclass          -7.561798 -0.137703   0.699015   -4.496004   0.076599   \n",
       "Age            138.696504 -0.551296  -4.496004  211.019125  -4.163334   \n",
       "SibSp          -16.325843 -0.018954   0.076599   -4.163334   1.216043   \n",
       "Parch           -0.342697  0.032017   0.012429   -2.344191   0.368739   \n",
       "Fare           161.883369  6.221787 -22.830196   73.849030   8.748734   \n",
       "\n",
       "                Parch         Fare  \n",
       "PassengerId -0.342697   161.883369  \n",
       "Survived     0.032017     6.221787  \n",
       "Pclass       0.012429   -22.830196  \n",
       "Age         -2.344191    73.849030  \n",
       "SibSp        0.368739     8.748734  \n",
       "Parch        0.649728     8.661052  \n",
       "Fare         8.661052  2469.436846  "
      ]
     },
     "execution_count": 198,
     "metadata": {},
     "output_type": "execute_result"
    }
   ],
   "source": [
    "titanic.cov()"
   ]
  },
  {
   "cell_type": "markdown",
   "metadata": {},
   "source": [
    "Notes:\n",
    "1. As before, it doesn't necessarily make sense to take the covariance of a variable just because it has numeric values, e.g. PassengerId.\n",
    "\n",
    "2. Covariance units depend on the variables being compared and may not be that easily interpretable.\n",
    "\n",
    "3. \"Large\" covariance is relative to the variable values themselves.\n",
    "\n",
    "4. A variable's covariance with itself is just its variance (squared standard deviation), e.g. for Fare:"
   ]
  },
  {
   "cell_type": "code",
   "execution_count": 199,
   "metadata": {
    "collapsed": false
   },
   "outputs": [
    {
     "name": "stdout",
     "output_type": "stream",
     "text": [
      "2469.43684574\n",
      "2469.43684574\n"
     ]
    }
   ],
   "source": [
    "# covariance of Fare with itself\n",
    "print(titanic[\"Fare\"].cov(titanic.Fare))\n",
    "\n",
    "# and variance of Fare\n",
    "print(titanic[\"Fare\"].var())"
   ]
  },
  {
   "cell_type": "markdown",
   "metadata": {},
   "source": [
    "### Correlation\n",
    "Unlike covariance, correlation is unitless and always between -1 (perfectly anti-correlated) and 1 (perfectly correlated). Correlation is basically covariance scaled by the respective standard deviations of each variable, which acts to normalize the values and leads to no units. This can make it easier to interpret. \n",
    "\n",
    "The equation for correlation is:\n",
    "\n",
    "\\begin{equation}\n",
    "cor(x,y) = \\frac{cov(x,y)}{std(x)std(y)}\n",
    "\\end{equation}\n",
    "\n",
    "cov(x,y) is the covariance of the predictor and outcome, as before. $std$ is the standard deviation. \n",
    "\n",
    "If correlation is 0, there is no measureable relationship between the variables. Correlation is sensitive to outliers.\n",
    "\n",
    "#### Question 6: What is the correlation of a variable with itself?"
   ]
  },
  {
   "cell_type": "code",
   "execution_count": 200,
   "metadata": {
    "collapsed": false
   },
   "outputs": [
    {
     "data": {
      "text/html": [
       "<div>\n",
       "<table border=\"1\" class=\"dataframe\">\n",
       "  <thead>\n",
       "    <tr style=\"text-align: right;\">\n",
       "      <th></th>\n",
       "      <th>PassengerId</th>\n",
       "      <th>Survived</th>\n",
       "      <th>Pclass</th>\n",
       "      <th>Age</th>\n",
       "      <th>SibSp</th>\n",
       "      <th>Parch</th>\n",
       "      <th>Fare</th>\n",
       "    </tr>\n",
       "  </thead>\n",
       "  <tbody>\n",
       "    <tr>\n",
       "      <th>PassengerId</th>\n",
       "      <td>1.000000</td>\n",
       "      <td>-0.005007</td>\n",
       "      <td>-0.035144</td>\n",
       "      <td>0.036847</td>\n",
       "      <td>-0.057527</td>\n",
       "      <td>-0.001652</td>\n",
       "      <td>0.012658</td>\n",
       "    </tr>\n",
       "    <tr>\n",
       "      <th>Survived</th>\n",
       "      <td>-0.005007</td>\n",
       "      <td>1.000000</td>\n",
       "      <td>-0.338481</td>\n",
       "      <td>-0.077221</td>\n",
       "      <td>-0.035322</td>\n",
       "      <td>0.081629</td>\n",
       "      <td>0.257307</td>\n",
       "    </tr>\n",
       "    <tr>\n",
       "      <th>Pclass</th>\n",
       "      <td>-0.035144</td>\n",
       "      <td>-0.338481</td>\n",
       "      <td>1.000000</td>\n",
       "      <td>-0.369226</td>\n",
       "      <td>0.083081</td>\n",
       "      <td>0.018443</td>\n",
       "      <td>-0.549500</td>\n",
       "    </tr>\n",
       "    <tr>\n",
       "      <th>Age</th>\n",
       "      <td>0.036847</td>\n",
       "      <td>-0.077221</td>\n",
       "      <td>-0.369226</td>\n",
       "      <td>1.000000</td>\n",
       "      <td>-0.308247</td>\n",
       "      <td>-0.189119</td>\n",
       "      <td>0.096067</td>\n",
       "    </tr>\n",
       "    <tr>\n",
       "      <th>SibSp</th>\n",
       "      <td>-0.057527</td>\n",
       "      <td>-0.035322</td>\n",
       "      <td>0.083081</td>\n",
       "      <td>-0.308247</td>\n",
       "      <td>1.000000</td>\n",
       "      <td>0.414838</td>\n",
       "      <td>0.159651</td>\n",
       "    </tr>\n",
       "    <tr>\n",
       "      <th>Parch</th>\n",
       "      <td>-0.001652</td>\n",
       "      <td>0.081629</td>\n",
       "      <td>0.018443</td>\n",
       "      <td>-0.189119</td>\n",
       "      <td>0.414838</td>\n",
       "      <td>1.000000</td>\n",
       "      <td>0.216225</td>\n",
       "    </tr>\n",
       "    <tr>\n",
       "      <th>Fare</th>\n",
       "      <td>0.012658</td>\n",
       "      <td>0.257307</td>\n",
       "      <td>-0.549500</td>\n",
       "      <td>0.096067</td>\n",
       "      <td>0.159651</td>\n",
       "      <td>0.216225</td>\n",
       "      <td>1.000000</td>\n",
       "    </tr>\n",
       "  </tbody>\n",
       "</table>\n",
       "</div>"
      ],
      "text/plain": [
       "             PassengerId  Survived    Pclass       Age     SibSp     Parch  \\\n",
       "PassengerId     1.000000 -0.005007 -0.035144  0.036847 -0.057527 -0.001652   \n",
       "Survived       -0.005007  1.000000 -0.338481 -0.077221 -0.035322  0.081629   \n",
       "Pclass         -0.035144 -0.338481  1.000000 -0.369226  0.083081  0.018443   \n",
       "Age             0.036847 -0.077221 -0.369226  1.000000 -0.308247 -0.189119   \n",
       "SibSp          -0.057527 -0.035322  0.083081 -0.308247  1.000000  0.414838   \n",
       "Parch          -0.001652  0.081629  0.018443 -0.189119  0.414838  1.000000   \n",
       "Fare            0.012658  0.257307 -0.549500  0.096067  0.159651  0.216225   \n",
       "\n",
       "                 Fare  \n",
       "PassengerId  0.012658  \n",
       "Survived     0.257307  \n",
       "Pclass      -0.549500  \n",
       "Age          0.096067  \n",
       "SibSp        0.159651  \n",
       "Parch        0.216225  \n",
       "Fare         1.000000  "
      ]
     },
     "execution_count": 200,
     "metadata": {},
     "output_type": "execute_result"
    }
   ],
   "source": [
    "titanic.corr()"
   ]
  },
  {
   "cell_type": "markdown",
   "metadata": {},
   "source": [
    "### Simpson's Paradox and Causation\n",
    "\n",
    "Sometimes correlation between variables can be misleading because of the presence of a confounding variable. This means that the _cause_ of variations in the two variables might actually be a third variable. Computing correlation assumes that all other variables are equally affecting the two variables you're comparing, which usually isn't true unless you've got a randomized experiment.\n",
    "\n",
    "For example, there is a 95.86% (0.9586) correlation between per capita mozzarella cheese consumption and civil engineering PhDs awarded between 2000 and 2009. Chances are good that eating more mozzarella will not itself lead to more civil engineering PhDs in the world. There must be a missing variable linking the two.\n",
    "\n",
    "<img src=images/mozzarellaPhDs.png align=\"center\" width=\"75%\"></div>\n",
    "\n",
    "Another classic example is the positive correlation between murder and icecream consumption. Does eating more icecream lead to murderous tendencies? Does murdering someone lead to an icecream craving? Actually, both are independently correlated to higher outside temperatures.\n",
    "\n",
    "It's always good to consider whether a correlation can be explained logically.\n",
    "\n",
    "See more examples:\n",
    "\n",
    "http://www.tylervigen.com/spurious-correlations\n",
    "\n"
   ]
  },
  {
   "cell_type": "markdown",
   "metadata": {},
   "source": [
    "## Chapter 14: Simple Linear Regression\n",
    "\n",
    "Linear regression is a way of computing a model that describes the linear relationship between variables. Simple linear regression uses only one predictor variable while multiple linear regression can include more predictors (also known as features) at once.\n",
    "\n",
    "### Basics\n",
    "\n",
    "The basic idea is that you want to find the line that best describes the relationship between a predictor (e.g. household income) and outcome (e.g. home value). Using the best fit line you calculate, you can predict the outcome for values of the predictor variable that may not be in your dataset.\n",
    "\n",
    "You may know the equation of a line as:\n",
    "\n",
    "$$ y=mx+b $$\n",
    "\n",
    "In linear regression this is expressed as:\n",
    "\n",
    "$$ y = \\beta x + \\alpha + \\epsilon $$\n",
    "\n",
    "$\\beta$ is the slope of the line, $\\alpha$ is the y-intercept, and $\\epsilon$ describes the noise of your data around the line. $\\beta$ tells you how much the outcome value increases for every unit increase in the predictor. $\\alpha$ tells you what the outcome would be even if the predictor is 0. $\\epsilon$ should be small assuming your data is actually linear (e.g. if there was high linear correlation between variables).\n",
    "\n",
    "If you know $\\alpha$ and $\\beta$, you know the line that best estimates your data. In other words, the line is a model of your data!\n",
    "\n",
    "\n",
    "\n",
    "### Finding the Best Fit Line using Least Squares\n",
    "\n",
    "Values for $\\alpha$ and $\\beta$ (which define the regression line) are found using a least squares approach, illustrated below. In effect, the slope and intercept of the line are wiggled around until the offset between the data and the line are minimized. \n",
    "\n",
    "The distance between the data points and the line is measured by the \"sum of squared errors\", literally adding up the area of the squares formed from the difference between the measured outcome (from data) and predicted outcome (from estimated line). Whichever line (i.e. whichever values of $\\alpha$ and $\\beta$) gives the smallest sum of squared errors is the \"least squares estimate\", also known as the line of best fit. It's the best way to describe your linear data.\n",
    "\n",
    "<img src=images/leastsq.gif align=\"center\" width=\"75%\"></div>\n",
    "Source: dynamicgeometry.com\n",
    "\n",
    "#### Question 7: Why is the titanic dataset not useful for practicing linear regression?\n",
    "\n",
    "### When you should use simple linear regression\n",
    "The titanic dataset isn't a good example for doing simple linear regression. To use this method we want a predictor and outcome which both have continuous values (rather than categorical like survival) and are linearly related to each other. \n",
    "\n",
    "Instead of titanic, we'll use a dataset of county data from the U.S. census. It was downloaded from here on 22 June 2016:\n",
    "https://www.openintro.org/stat/data/cc.php"
   ]
  },
  {
   "cell_type": "code",
   "execution_count": 5,
   "metadata": {
    "collapsed": false
   },
   "outputs": [
    {
     "data": {
      "text/html": [
       "<div>\n",
       "<table border=\"1\" class=\"dataframe\">\n",
       "  <thead>\n",
       "    <tr style=\"text-align: right;\">\n",
       "      <th></th>\n",
       "      <th>growth</th>\n",
       "      <th>FIPS</th>\n",
       "      <th>pop2010</th>\n",
       "      <th>pop2000</th>\n",
       "      <th>age_under_5</th>\n",
       "      <th>age_under_18</th>\n",
       "      <th>age_over_65</th>\n",
       "      <th>female</th>\n",
       "      <th>black</th>\n",
       "      <th>hispanic</th>\n",
       "      <th>...</th>\n",
       "      <th>bachelors</th>\n",
       "      <th>mean_work_travel</th>\n",
       "      <th>home_ownership</th>\n",
       "      <th>housing_multi_unit</th>\n",
       "      <th>median_val_owner_occupied</th>\n",
       "      <th>persons_per_household</th>\n",
       "      <th>per_capita_income</th>\n",
       "      <th>poverty</th>\n",
       "      <th>sales_per_capita</th>\n",
       "      <th>density</th>\n",
       "    </tr>\n",
       "  </thead>\n",
       "  <tbody>\n",
       "    <tr>\n",
       "      <th>0</th>\n",
       "      <td>24.959355</td>\n",
       "      <td>1001</td>\n",
       "      <td>54571</td>\n",
       "      <td>43671</td>\n",
       "      <td>6.6</td>\n",
       "      <td>26.8</td>\n",
       "      <td>12.0</td>\n",
       "      <td>51.3</td>\n",
       "      <td>17.7</td>\n",
       "      <td>2.4</td>\n",
       "      <td>...</td>\n",
       "      <td>21.7</td>\n",
       "      <td>25.1</td>\n",
       "      <td>77.5</td>\n",
       "      <td>7.2</td>\n",
       "      <td>133900.0</td>\n",
       "      <td>2.70</td>\n",
       "      <td>24568</td>\n",
       "      <td>10.6</td>\n",
       "      <td>12003</td>\n",
       "      <td>91.8</td>\n",
       "    </tr>\n",
       "    <tr>\n",
       "      <th>1</th>\n",
       "      <td>29.804508</td>\n",
       "      <td>1003</td>\n",
       "      <td>182265</td>\n",
       "      <td>140415</td>\n",
       "      <td>6.1</td>\n",
       "      <td>23.0</td>\n",
       "      <td>16.8</td>\n",
       "      <td>51.1</td>\n",
       "      <td>9.4</td>\n",
       "      <td>4.4</td>\n",
       "      <td>...</td>\n",
       "      <td>26.8</td>\n",
       "      <td>25.8</td>\n",
       "      <td>76.7</td>\n",
       "      <td>22.6</td>\n",
       "      <td>177200.0</td>\n",
       "      <td>2.50</td>\n",
       "      <td>26469</td>\n",
       "      <td>12.2</td>\n",
       "      <td>17166</td>\n",
       "      <td>114.6</td>\n",
       "    </tr>\n",
       "    <tr>\n",
       "      <th>2</th>\n",
       "      <td>-5.444590</td>\n",
       "      <td>1005</td>\n",
       "      <td>27457</td>\n",
       "      <td>29038</td>\n",
       "      <td>6.2</td>\n",
       "      <td>21.9</td>\n",
       "      <td>14.2</td>\n",
       "      <td>46.9</td>\n",
       "      <td>46.9</td>\n",
       "      <td>5.1</td>\n",
       "      <td>...</td>\n",
       "      <td>13.5</td>\n",
       "      <td>23.8</td>\n",
       "      <td>68.0</td>\n",
       "      <td>11.1</td>\n",
       "      <td>88200.0</td>\n",
       "      <td>2.52</td>\n",
       "      <td>15875</td>\n",
       "      <td>25.0</td>\n",
       "      <td>6334</td>\n",
       "      <td>31.0</td>\n",
       "    </tr>\n",
       "    <tr>\n",
       "      <th>3</th>\n",
       "      <td>10.030731</td>\n",
       "      <td>1007</td>\n",
       "      <td>22915</td>\n",
       "      <td>20826</td>\n",
       "      <td>6.0</td>\n",
       "      <td>22.7</td>\n",
       "      <td>12.7</td>\n",
       "      <td>46.3</td>\n",
       "      <td>22.0</td>\n",
       "      <td>1.8</td>\n",
       "      <td>...</td>\n",
       "      <td>10.0</td>\n",
       "      <td>28.3</td>\n",
       "      <td>82.9</td>\n",
       "      <td>6.6</td>\n",
       "      <td>81200.0</td>\n",
       "      <td>3.02</td>\n",
       "      <td>19918</td>\n",
       "      <td>12.6</td>\n",
       "      <td>5804</td>\n",
       "      <td>36.8</td>\n",
       "    </tr>\n",
       "    <tr>\n",
       "      <th>4</th>\n",
       "      <td>12.343211</td>\n",
       "      <td>1009</td>\n",
       "      <td>57322</td>\n",
       "      <td>51024</td>\n",
       "      <td>6.3</td>\n",
       "      <td>24.6</td>\n",
       "      <td>14.7</td>\n",
       "      <td>50.5</td>\n",
       "      <td>1.3</td>\n",
       "      <td>8.1</td>\n",
       "      <td>...</td>\n",
       "      <td>12.5</td>\n",
       "      <td>33.2</td>\n",
       "      <td>82.0</td>\n",
       "      <td>3.7</td>\n",
       "      <td>113700.0</td>\n",
       "      <td>2.73</td>\n",
       "      <td>21070</td>\n",
       "      <td>13.4</td>\n",
       "      <td>5622</td>\n",
       "      <td>88.9</td>\n",
       "    </tr>\n",
       "  </tbody>\n",
       "</table>\n",
       "<p>5 rows × 25 columns</p>\n",
       "</div>"
      ],
      "text/plain": [
       "      growth  FIPS  pop2010  pop2000  age_under_5  age_under_18  age_over_65  \\\n",
       "0  24.959355  1001    54571    43671          6.6          26.8         12.0   \n",
       "1  29.804508  1003   182265   140415          6.1          23.0         16.8   \n",
       "2  -5.444590  1005    27457    29038          6.2          21.9         14.2   \n",
       "3  10.030731  1007    22915    20826          6.0          22.7         12.7   \n",
       "4  12.343211  1009    57322    51024          6.3          24.6         14.7   \n",
       "\n",
       "   female  black  hispanic   ...     bachelors  mean_work_travel  \\\n",
       "0    51.3   17.7       2.4   ...          21.7              25.1   \n",
       "1    51.1    9.4       4.4   ...          26.8              25.8   \n",
       "2    46.9   46.9       5.1   ...          13.5              23.8   \n",
       "3    46.3   22.0       1.8   ...          10.0              28.3   \n",
       "4    50.5    1.3       8.1   ...          12.5              33.2   \n",
       "\n",
       "   home_ownership  housing_multi_unit  median_val_owner_occupied  \\\n",
       "0            77.5                 7.2                   133900.0   \n",
       "1            76.7                22.6                   177200.0   \n",
       "2            68.0                11.1                    88200.0   \n",
       "3            82.9                 6.6                    81200.0   \n",
       "4            82.0                 3.7                   113700.0   \n",
       "\n",
       "   persons_per_household  per_capita_income  poverty  sales_per_capita  \\\n",
       "0                   2.70              24568     10.6             12003   \n",
       "1                   2.50              26469     12.2             17166   \n",
       "2                   2.52              15875     25.0              6334   \n",
       "3                   3.02              19918     12.6              5804   \n",
       "4                   2.73              21070     13.4              5622   \n",
       "\n",
       "   density  \n",
       "0     91.8  \n",
       "1    114.6  \n",
       "2     31.0  \n",
       "3     36.8  \n",
       "4     88.9  \n",
       "\n",
       "[5 rows x 25 columns]"
      ]
     },
     "execution_count": 5,
     "metadata": {},
     "output_type": "execute_result"
    }
   ],
   "source": [
    "county = pd.read_csv(\"data/countydata.txt\",delimiter='\\t')\n",
    "county.head()"
   ]
  },
  {
   "cell_type": "markdown",
   "metadata": {},
   "source": [
    "#### Question 8: How would you check to see if this data needs to be cleaned before we work with it? (Hint: Look for missing values, unfortunate column names, etc.)\n",
    "\n",
    "#### Question 9: How do you know this dataset is suitable for simple linear regression?"
   ]
  },
  {
   "cell_type": "markdown",
   "metadata": {},
   "source": [
    "We could consider the relationship between a number of variables here. For simple linear regression, we'll consider only one predictor and one outcome. To decide which to use, it might be useful to look at the correlation between sets of variables."
   ]
  },
  {
   "cell_type": "code",
   "execution_count": 355,
   "metadata": {
    "collapsed": false
   },
   "outputs": [
    {
     "name": "stdout",
     "output_type": "stream",
     "text": [
      "0.74213681627\n",
      "-0.704362709345\n"
     ]
    }
   ],
   "source": [
    "# Correlation between per capita income and median value of owner-occupied homes is strongly positively correlated\n",
    "print(county[\"per_capita_income\"].corr(county.median_val_owner_occupied))\n",
    "# Correlation between per capita income and poverty level is strongly negatively correlated.\n",
    "print(county[\"per_capita_income\"].corr(county.poverty))"
   ]
  },
  {
   "cell_type": "markdown",
   "metadata": {},
   "source": [
    "#### Question 10: Try finding other combinations of variables on which you would want to try simple linear regression.\n",
    "\n",
    "We'll work with just the first example, where higher per capita income is correlated with higher median home values. Feel free to try this method with your own example as well.\n",
    "\n",
    "First, we can visually take a look at the data:"
   ]
  },
  {
   "cell_type": "code",
   "execution_count": 362,
   "metadata": {
    "collapsed": false
   },
   "outputs": [
    {
     "data": {
      "text/plain": [
       "<matplotlib.axes._subplots.AxesSubplot at 0x116fef850>"
      ]
     },
     "execution_count": 362,
     "metadata": {},
     "output_type": "execute_result"
    },
    {
     "data": {
      "image/png": "[encoded data removed]",
      "text/plain": [
       "<matplotlib.figure.Figure at 0x11ac39410>"
      ]
     },
     "metadata": {},
     "output_type": "display_data"
    }
   ],
   "source": [
    "#plot the data\n",
    "sns.regplot('per_capita_income', 'median_val_owner_occupied', \n",
    "           data=county, \n",
    "           fit_reg=False)"
   ]
  },
  {
   "cell_type": "markdown",
   "metadata": {},
   "source": [
    "We can see the positive correlation in the plot. \n",
    "\n",
    "Spoiler alert: seaborn will calculate and plot the regression line without any effort by just turning on the fit_reg flag. "
   ]
  },
  {
   "cell_type": "code",
   "execution_count": 510,
   "metadata": {
    "collapsed": false
   },
   "outputs": [
    {
     "data": {
      "text/plain": [
       "<matplotlib.axes._subplots.AxesSubplot at 0x118622210>"
      ]
     },
     "execution_count": 510,
     "metadata": {},
     "output_type": "execute_result"
    },
    {
     "data": {
      "image/png": "[encoded data removed]",
      "text/plain": [
       "<matplotlib.figure.Figure at 0x1186163d0>"
      ]
     },
     "metadata": {},
     "output_type": "display_data"
    }
   ],
   "source": [
    "#plot with regression line\n",
    "sns.regplot('per_capita_income', 'median_val_owner_occupied', \n",
    "           data=county, \n",
    "           fit_reg=True)"
   ]
  },
  {
   "cell_type": "markdown",
   "metadata": {},
   "source": [
    "However, it won't show you how good the regression line is or tell you what $\\alpha$ and $\\beta$ are so we can use them to predict specific estimates. But calculating the equation is also easy using the statsmodels function ols (ordinary least squares)."
   ]
  },
  {
   "cell_type": "code",
   "execution_count": 7,
   "metadata": {
    "collapsed": false
   },
   "outputs": [
    {
     "name": "stdout",
     "output_type": "stream",
     "text": [
      "Intercept           -140340.857930\n",
      "per_capita_income        12.156864\n",
      "dtype: float64\n"
     ]
    }
   ],
   "source": [
    "#calculate the linear model\n",
    "#the regression model is expressed as outcome ~ predictor\n",
    "lm=smf.ols(formula='median_val_owner_occupied ~ per_capita_income', data=county).fit()\n",
    "\n",
    "#print the coefficient values, alpha and beta\n",
    "print(lm.params)"
   ]
  },
  {
   "cell_type": "markdown",
   "metadata": {},
   "source": [
    "#### Question 11: The y-intercept, alpha, is negative! What does it mean to have a negative home value? \n",
    "\n",
    "It's reasonable to assume _any_ house will have a value of at least \\$0. And we see this in the data: there are no data points for home values less than \\$0. So for negative home values, our line is an extrapolation and doesn't make sense. "
   ]
  },
  {
   "cell_type": "code",
   "execution_count": 8,
   "metadata": {
    "collapsed": false
   },
   "outputs": [
    {
     "data": {
      "text/plain": [
       "0.0"
      ]
     },
     "execution_count": 8,
     "metadata": {},
     "output_type": "execute_result"
    }
   ],
   "source": [
    "# the minimum home value in the data\n",
    "county[\"median_val_owner_occupied\"].min()"
   ]
  },
  {
   "cell_type": "markdown",
   "metadata": {},
   "source": [
    "Instead, consider the case of our lowest possible home value, \\$0. We can find the minimum per capita income that corresponds to the minimum home value by plugging in \\$0 for the home value:\n",
    "\n",
    "$$ homeValue = \\beta * income - \\alpha $$\n",
    "\n",
    "$$ 0 = 12.15 * income - 140,340 $$\n",
    "\n",
    "$$ income = $11,550.69 $$\n",
    "\n",
    "This means we estimate that homeowners in this census dataset make a minimum per capita income of \\$11,550.69 to own even the cheapest house. Of course, this is only an estimate and won't agree with the data perfectly. (Though why is any house listed at $0 value? Perhaps this is mis-reported or missing data?)"
   ]
  },
  {
   "cell_type": "code",
   "execution_count": 9,
   "metadata": {
    "collapsed": false
   },
   "outputs": [
    {
     "data": {
      "text/plain": [
       "538    43308\n",
       "Name: per_capita_income, dtype: int64"
      ]
     },
     "execution_count": 9,
     "metadata": {},
     "output_type": "execute_result"
    }
   ],
   "source": [
    "# actual per capita income corresponding to home value of $0 in the dataset\n",
    "county.per_capita_income[(county.median_val_owner_occupied == 0)]"
   ]
  },
  {
   "cell_type": "markdown",
   "metadata": {},
   "source": [
    "The predict function will go the other way and give us our estimated home value for any income:"
   ]
  },
  {
   "cell_type": "code",
   "execution_count": 10,
   "metadata": {
    "collapsed": false
   },
   "outputs": [
    {
     "data": {
      "text/plain": [
       "array([ 70.92403931])"
      ]
     },
     "execution_count": 10,
     "metadata": {},
     "output_type": "execute_result"
    }
   ],
   "source": [
    "lm.predict({'per_capita_income':[11550]}) #should be close to 0"
   ]
  },
  {
   "cell_type": "markdown",
   "metadata": {},
   "source": [
    "#### Question 12: Try finding median home value estimates for your own choice of per capita income\n"
   ]
  },
  {
   "cell_type": "markdown",
   "metadata": {},
   "source": [
    "#### Question 13: Our model estimates that for per capita income of \\$75,000, median home value is \\$771,423. Why might you be skeptical of this estimate?\n"
   ]
  },
  {
   "cell_type": "code",
   "execution_count": 11,
   "metadata": {
    "collapsed": false
   },
   "outputs": [
    {
     "name": "stdout",
     "output_type": "stream",
     "text": [
      "[ 771423.96005295]\n"
     ]
    }
   ],
   "source": [
    "#predicted home value for per capita income of $75,000\n",
    "print(lm.predict({'per_capita_income':[75000]})) "
   ]
  },
  {
   "cell_type": "markdown",
   "metadata": {},
   "source": [
    "You can plug in any number you choose for income, but be wary of out-of-sample estimates. That is, our model has only been evaluated for the range of incomes covered by our data. The same model may not be appropriate for values of income outside this range."
   ]
  },
  {
   "cell_type": "code",
   "execution_count": 12,
   "metadata": {
    "collapsed": false
   },
   "outputs": [
    {
     "name": "stdout",
     "output_type": "stream",
     "text": [
      "7772\n",
      "64381\n"
     ]
    }
   ],
   "source": [
    "#range of income in the data\n",
    "print(county[\"per_capita_income\"].min())\n",
    "print(county[\"per_capita_income\"].max())"
   ]
  },
  {
   "cell_type": "markdown",
   "metadata": {},
   "source": [
    "### Evaluating the goodness of your model fit\n",
    "To tell how well our line describes the data, we look at the $R^2$ value. $R^2$ is known as the _coefficient of determination_. It measures how much of the variance in the outcome variable (i.e. home value) is described by the model. $R^2$ ranges from 0 to 1 with a good fit being close to 1. In essence, a high R$^2$ values means that the predictor variable includes enough information to do a good job predicting what's going on with the outcome variable."
   ]
  },
  {
   "cell_type": "code",
   "execution_count": 13,
   "metadata": {
    "collapsed": false
   },
   "outputs": [
    {
     "name": "stdout",
     "output_type": "stream",
     "text": [
      "0.550767054063\n"
     ]
    }
   ],
   "source": [
    "#print the R^2 value\n",
    "print(lm.rsquared)"
   ]
  },
  {
   "cell_type": "markdown",
   "metadata": {},
   "source": [
    "This $R^2$ value for our income-home value data is relatively low. It tells us only 55% of the variance in median home value is explained by per capita income. This could suggest additional variables need to be included to better predict median home values. This is a job for multiple linear regression which we'll discuss in a future session.\n",
    "\n",
    "Note the ols calculation also includes a lot more information for more complex statistical analysis:"
   ]
  },
  {
   "cell_type": "code",
   "execution_count": 14,
   "metadata": {
    "collapsed": false
   },
   "outputs": [],
   "source": [
    "# uncomment for a lot more info from OLS calculation\n",
    "#print(lm.summary()) \n",
    "\n",
    "#uncomment for a complete list of all the quantities of interest you can reference individually\n",
    "#dir(lm)"
   ]
  },
  {
   "cell_type": "markdown",
   "metadata": {},
   "source": [
    "### Assumptions\n",
    "\n",
    "One tricky thing about using statistics correctly is to acknowledge and respect their limitations. Every statistical approach will have associated assumptions. Simple linear regression has four:\n",
    "\n",
    "1. Linearity: the data should be best described by a line (instead of a curve, etc.)\n",
    "    * Check with residual plot, should get random distribution around _y = 0_    \n",
    "2. Homoscedasticity: variance should be constant for range of predictor values\n",
    "    * Check with same residual plot, spread of residuals shouldn't get larger as a function of predictor value\n",
    "3. Normality: errors should be normally distributed.\n",
    "    * Check with Q-Q plot, should get the identity line\n",
    "4. No autocorrelation of errors: each observation should be independent of the others\n",
    "    * Check with residual plot, there shouldn't be a pattern"
   ]
  },
  {
   "cell_type": "code",
   "execution_count": 15,
   "metadata": {
    "collapsed": false
   },
   "outputs": [
    {
     "data": {
      "text/plain": [
       "<matplotlib.axes._subplots.AxesSubplot at 0x11122a4d0>"
      ]
     },
     "execution_count": 15,
     "metadata": {},
     "output_type": "execute_result"
    },
    {
     "data": {
      "image/png": "[encoded data removed]",
      "text/plain": [
       "<matplotlib.figure.Figure at 0x110dc04d0>"
      ]
     },
     "metadata": {},
     "output_type": "display_data"
    }
   ],
   "source": [
    "#check for linearity\n",
    "sns.residplot(county.median_val_owner_occupied,lm.resid)"
   ]
  },
  {
   "cell_type": "markdown",
   "metadata": {},
   "source": [
    "This looks fine for linearity. Nonlinear data would show residuals with some curvature around the 0 line like this:\n",
    "\n",
    "<img src=images/Nonlinear-residual.png align=\"center\" width=\"25%\"></div>\n",
    "\n",
    "Source: http://docs.statwing.com/"
   ]
  },
  {
   "cell_type": "code",
   "execution_count": 20,
   "metadata": {
    "collapsed": false
   },
   "outputs": [
    {
     "data": {
      "text/plain": [
       "<matplotlib.axes._subplots.AxesSubplot at 0x114b3bcd0>"
      ]
     },
     "execution_count": 20,
     "metadata": {},
     "output_type": "execute_result"
    },
    {
     "data": {
      "image/png": "[encoded data removed]",
      "text/plain": [
       "<matplotlib.figure.Figure at 0x11160bd50>"
      ]
     },
     "metadata": {},
     "output_type": "display_data"
    }
   ],
   "source": [
    "# check for constant variance (homoscedasticity)\n",
    "sns.residplot(county.median_val_owner_occupied,lm.resid)"
   ]
  },
  {
   "cell_type": "markdown",
   "metadata": {},
   "source": [
    "The spread about the 0 residual line doesn't seem to change all that much with home value, so the data appears homoscedastic. Heteroscedastic data would look something like this:\n",
    "\n",
    "\n",
    "<img src=images/heteroskedastic.png align=\"center\" width=\"50%\"></div>\n",
    "\n",
    "Source: http://www.econometricsbysimulation.com/"
   ]
  },
  {
   "cell_type": "code",
   "execution_count": 17,
   "metadata": {
    "collapsed": false
   },
   "outputs": [
    {
     "data": {
      "text/plain": [
       "<matplotlib.figure.Figure at 0x114465b50>"
      ]
     },
     "metadata": {},
     "output_type": "display_data"
    },
    {
     "data": {
      "image/png": "[encoded data removed]",
      "text/plain": [
       "<matplotlib.figure.Figure at 0x111595390>"
      ]
     },
     "metadata": {},
     "output_type": "display_data"
    }
   ],
   "source": [
    "#check for normality\n",
    "fig = plt.figure()\n",
    "fig=smg.qqplot(lm.resid,fit=True, line='s')"
   ]
  },
  {
   "cell_type": "markdown",
   "metadata": {},
   "source": [
    "This shape of QQ plot is not that uncommon. The data is normal in the center of the distribution but our dataset has values more exteme than our model predicts. Because most of the data falls on the line, this isn't too poorly behaved, but note that the distribution isn't quite normal because of the thicker tails, particular at the higher end of the range."
   ]
  },
  {
   "cell_type": "code",
   "execution_count": 19,
   "metadata": {
    "collapsed": false
   },
   "outputs": [
    {
     "data": {
      "text/plain": [
       "<matplotlib.axes._subplots.AxesSubplot at 0x114773610>"
      ]
     },
     "execution_count": 19,
     "metadata": {},
     "output_type": "execute_result"
    },
    {
     "data": {
      "image/png": "[encoded data removed]",
      "text/plain": [
       "<matplotlib.figure.Figure at 0x11471a650>"
      ]
     },
     "metadata": {},
     "output_type": "display_data"
    }
   ],
   "source": [
    "#check for error independence\n",
    "#pd.tools.plotting.autocorrelation_plot(county)\n",
    "#sns.regplot('per_capita_income',lm.resid,\n",
    "#           data=county, \n",
    "#           fit_reg=False)\n",
    "\n",
    "sns.residplot(county.median_val_owner_occupied,lm.resid)"
   ]
  },
  {
   "cell_type": "markdown",
   "metadata": {
    "collapsed": true
   },
   "source": [
    "We check for independence in the _errors_, not the outcome variable itself. This data looks to have uncorrelated errors, because they seem to vary randomly. \n",
    "\n",
    "When errors are correlated, each one will appear to follow from the last in a pattern.\n",
    "\n",
    "\n",
    "<img src=images/correlatedErrors.png align=\"center\" width=\"50%\"></div>\n",
    "\n",
    "Source: http://zoonek2.free.fr/UNIX/48_R/11.html"
   ]
  }
 ],
 "metadata": {
  "kernelspec": {
   "display_name": "Python 2",
   "language": "python",
   "name": "python2"
  },
  "language_info": {
   "codemirror_mode": {
    "name": "ipython",
    "version": 2
   },
   "file_extension": ".py",
   "mimetype": "text/x-python",
   "name": "python",
   "nbconvert_exporter": "python",
   "pygments_lexer": "ipython2",
   "version": "2.7.11"
  }
 },
 "nbformat": 4,
 "nbformat_minor": 0
}
